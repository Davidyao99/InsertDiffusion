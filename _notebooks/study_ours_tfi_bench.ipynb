{
 "cells": [
  {
   "cell_type": "code",
   "execution_count": null,
   "metadata": {},
   "outputs": [],
   "source": [
    "import os\n",
    "if os.getcwd().split('\\\\')[-1] != 'InsertDiffusion' and os.getcwd().split('/')[-1] != 'InsertDiffusion':\n",
    "    os.chdir('..')\n",
    "\n",
    "import utils\n",
    "import importlib\n",
    "importlib.reload(utils)\n",
    "%load_ext autoreload\n",
    "%autoreload 2\n",
    "\n",
    "import pandas as pd\n",
    "from PIL import Image\n",
    "\n",
    "MASK_THRESHOLD = 220\n",
    "INPAINTING_MODEL = 'stabilityai/stable-diffusion-2-inpainting'\n",
    "INPAINTING_NEGATIVE_PROMPT = \"wrong proportions, outline, white, collage, toy, silhouette, model, clay, above floor, flying, white background, duplicate, multiple, people, distortion, low quality, worst, ugly, fuzzy, blurry, cartoon, simple, art\"\n",
    "INPAINTING_GUIDANCE = 15\n",
    "INPAINTING_STEPS = 75\n",
    "\n",
    "IMG2IMG_MODEL = 'stabilityai/stable-diffusion-xl-refiner-1.0'\n",
    "IMG2IMG_STRENGTH = 0.15\n",
    "IMG2IMG_GUIDANCE = 7.5\n",
    "\n",
    "COMPOSITION_STRENGTH = 0.28"
   ]
  },
  {
   "cell_type": "markdown",
   "metadata": {},
   "source": [
    "Load data"
   ]
  },
  {
   "cell_type": "code",
   "execution_count": null,
   "metadata": {},
   "outputs": [],
   "source": [
    "DATA_PATH = './test_images/tf-icon-bench-ours'\n",
    "IMAGES_PATH = os.path.join(DATA_PATH, 'fg_images')\n",
    "BACKGROUNDS_PATH = os.path.join(DATA_PATH, 'bg_images')\n",
    "INFO_PATH = os.path.join(DATA_PATH, 'info.json')\n",
    "OUT_PATH = './test_images/eval_results/tf-icon-bench'\n",
    "os.makedirs(OUT_PATH, exist_ok=True)"
   ]
  },
  {
   "cell_type": "code",
   "execution_count": null,
   "metadata": {},
   "outputs": [],
   "source": [
    "import json\n",
    "\n",
    "with open(INFO_PATH, 'r') as f:\n",
    "    info = json.load(f)"
   ]
  },
  {
   "cell_type": "markdown",
   "metadata": {},
   "source": [
    "Some test"
   ]
  },
  {
   "cell_type": "code",
   "execution_count": null,
   "metadata": {},
   "outputs": [],
   "source": [
    "info['00006']"
   ]
  },
  {
   "cell_type": "code",
   "execution_count": null,
   "metadata": {},
   "outputs": [],
   "source": [
    "test_bg = Image.open(os.path.join(BACKGROUNDS_PATH, '00006.png'))\n",
    "test_fg = Image.open(os.path.join(IMAGES_PATH, '00006.png'))\n",
    "test_fg"
   ]
  },
  {
   "cell_type": "code",
   "execution_count": null,
   "metadata": {},
   "outputs": [],
   "source": [
    "test_bg"
   ]
  },
  {
   "cell_type": "code",
   "execution_count": null,
   "metadata": {},
   "outputs": [],
   "source": [
    "test_fg_moved = utils.paste_pipeline(test_fg, info['00006']['scale'], info['00006']['fraction_down'], info['00006']['fraction_right'], rotation=info['00006']['rotation'])\n",
    "test_fg_moved"
   ]
  },
  {
   "cell_type": "code",
   "execution_count": null,
   "metadata": {},
   "outputs": [],
   "source": [
    "test_cp = utils.paste_image(test_fg_moved, test_bg)\n",
    "test_cp"
   ]
  },
  {
   "cell_type": "code",
   "execution_count": null,
   "metadata": {},
   "outputs": [],
   "source": [
    "mask = utils.get_mask_from_image(test_fg_moved, MASK_THRESHOLD)\n",
    "inpainted_test = utils.sd_inpainting(INPAINTING_MODEL, test_cp, mask, info['00006']['prompt'], INPAINTING_NEGATIVE_PROMPT, INPAINTING_GUIDANCE, INPAINTING_STEPS, inpainting_strength=COMPOSITION_STRENGTH)\n",
    "inpainted_test"
   ]
  },
  {
   "cell_type": "code",
   "execution_count": null,
   "metadata": {},
   "outputs": [],
   "source": [
    "final_test = utils.sd_img2img(IMG2IMG_MODEL, inpainted_test, info['00006']['prompt'], INPAINTING_NEGATIVE_PROMPT, IMG2IMG_STRENGTH, IMG2IMG_GUIDANCE)\n",
    "final_test"
   ]
  },
  {
   "cell_type": "markdown",
   "metadata": {},
   "source": [
    "It seems to work on this example (reasonably well, our method performs better with larger objects). Let's do it for all examples."
   ]
  },
  {
   "cell_type": "code",
   "execution_count": null,
   "metadata": {},
   "outputs": [],
   "source": [
    "examples = sorted([x.split('.')[0] for x in os.listdir(IMAGES_PATH)])\n",
    "\n",
    "for example in examples:\n",
    "    c_info = info[example]\n",
    "    if os.path.exists(os.path.join(IMAGES_PATH, example + '.jpg')):\n",
    "        c_fg = Image.open(os.path.join(IMAGES_PATH, example + '.jpg'))\n",
    "    elif os.path.exists(os.path.join(IMAGES_PATH, example + '.png')):\n",
    "        c_fg = Image.open(os.path.join(IMAGES_PATH, example + '.png'))\n",
    "    else:\n",
    "        raise FileNotFoundError(f'Foreground for {example} not found')\n",
    "    if os.path.exists(os.path.join(BACKGROUNDS_PATH, example + '.jpg')):\n",
    "        c_bg = Image.open(os.path.join(BACKGROUNDS_PATH, example + '.jpg'))\n",
    "    elif os.path.exists(os.path.join(BACKGROUNDS_PATH, example + '.png')):\n",
    "        c_bg = Image.open(os.path.join(BACKGROUNDS_PATH, example + '.png'))\n",
    "    else:\n",
    "        raise FileNotFoundError(f'Background for {example} not found')\n",
    "    \n",
    "    moved = utils.paste_pipeline(c_fg, c_info['scale'], c_info['fraction_down'], c_info['fraction_right'], rotation=c_info['rotation'])\n",
    "    mask = utils.get_mask_from_image(moved, MASK_THRESHOLD)\n",
    "\n",
    "    pasted = utils.paste_image(moved, c_bg)\n",
    "    \n",
    "    inpainted = utils.sd_inpainting(INPAINTING_MODEL, pasted, mask, c_info['prompt'], INPAINTING_NEGATIVE_PROMPT, INPAINTING_GUIDANCE, INPAINTING_STEPS, inpainting_strength=COMPOSITION_STRENGTH)\n",
    "    rediffused = utils.sd_img2img(IMG2IMG_MODEL, inpainted, c_info['prompt'], INPAINTING_NEGATIVE_PROMPT, IMG2IMG_STRENGTH, IMG2IMG_GUIDANCE)\n",
    "\n",
    "    rediffused.save(os.path.join(OUT_PATH, example + '.png'))"
   ]
  }
 ],
 "metadata": {
  "kernelspec": {
   "display_name": "venv",
   "language": "python",
   "name": "python3"
  },
  "language_info": {
   "codemirror_mode": {
    "name": "ipython",
    "version": 3
   },
   "file_extension": ".py",
   "mimetype": "text/x-python",
   "name": "python",
   "nbconvert_exporter": "python",
   "pygments_lexer": "ipython3",
   "version": "3.8.10"
  }
 },
 "nbformat": 4,
 "nbformat_minor": 2
}
